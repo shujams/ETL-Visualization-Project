








<!DOCTYPE html>
<html lang="en">

<head>
  <meta charset="utf-8">
  <title>Jupyter Notebook Viewer</title>
  <meta name="viewport" content="width=device-width, initial-scale=1.0">
  <meta name="description" content="">
  <meta name="author" content="">
  
  <meta name="robots" content="noindex,nofollow">
  

  <!--NEW RELIC Start Perf Measurement-->
  
  <!--NREND-->

  <!-- Le styles -->
  <link href="/static/build/styles.css" rel="stylesheet">

  <!-- Le HTML5 shim, for IE6-8 support of HTML5 elements -->
  <!--[if lt IE 9]>
    <script src="http://html5shim.googlecode.com/svn/trunk/html5.js"></script>
  <![endif]-->

  <!-- Le fav and touch icons -->
  <link rel="shortcut icon" href="/static/ico/ipynb_icon_16x16.png">
  <link rel="apple-touch-icon-precomposed" sizes="144x144"
        href="/static/ico/apple-touch-icon-144-precomposed.png">
  <link rel="apple-touch-icon-precomposed" sizes="114x114"
        href="/static/ico/apple-touch-icon-114-precomposed.png">
  <link rel="apple-touch-icon-precomposed" sizes="72x72"
        href="/static/ico/apple-touch-icon-72-precomposed.png">
  <link rel="apple-touch-icon-precomposed"
        href="/static/ico/apple-touch-icon-57-precomposed.png">
  
  

  

  
  <meta name="twitter:card" content="summary">
  <meta name="twitter:title" content="Notebook on nbviewer">
  <meta name="twitter:description" content="Check out this Jupyter notebook!">

  
  <meta name="twitter:domain" content="nbviewer.jupyter.org">
  <meta name="twitter:image:src" content="http://ipython.org/ipython-doc/dev/_images/ipynb_icon_128x128.png">

  
    <link href="/static/build/notebook.css" rel="stylesheet">
  

  

  
    <script src="https://cdnjs.cloudflare.com/ajax/libs/mathjax/2.7.1/MathJax.js?config=TeX-AMS_HTML" type="text/javascript">
    </script>
    <script type="text/javascript">
      init_mathjax = function() {
        if (window.MathJax) {
          // MathJax loaded
          MathJax.Hub.Config({
            TeX: {
              equationNumbers: {
                autoNumber: "AMS",
                useLabelIds: true
              }
            },
            tex2jax: {
              inlineMath: [ ['$','$'], ["\\(","\\)"] ],
              displayMath: [ ['$$','$$'], ["\\[","\\]"] ],
              processEscapes: true,
              processEnvironments: true
            },
            displayAlign: 'center',
            "HTML-CSS": {
              styles: {'.MathJax_Display': {"margin": 0}},
              linebreaks: { automatic: true }
            }
          });
          MathJax.Hub.Queue(["Typeset", MathJax.Hub]);
        }
      }
      init_mathjax();
    </script>
  

  
    <script>
      (function() {
        function addWidgetsRenderer() {
          var mimeElement = document.querySelector('script[type="application/vnd.jupyter.widget-view+json"]');
          var scriptElement = document.createElement('script');
          var widgetRendererSrc = 'https://unpkg.com/@jupyter-widgets/html-manager@0.15/dist/embed-amd.js';
          var widgetState;

          try {
            widgetState = mimeElement && JSON.parse(mimeElement.innerHTML);

            if (widgetState && (widgetState.version_major < 2 || !widgetState.version_major)) {
              widgetRendererSrc = 'https://unpkg.com/jupyter-js-widgets@2.1/dist/embed.js';
            }
          } catch(e) {}

          scriptElement.src = widgetRendererSrc;
          document.body.appendChild(scriptElement);
        }

        document.addEventListener('DOMContentLoaded', addWidgetsRenderer);
      }());
    </script>
  

</head>

<body class="nbviewer">

  <!-- These are loaded at the top of the body so they are available to
       notebook cells when they are loaded below. -->
  <script src="/static/components/jquery/dist/jquery.min.js"></script>
  <script src="/static/components/requirejs/require.js"></script>
  <script src="/static/components/moment/min/moment.min.js"></script>
<!-- Navbar
================================================== -->
  <nav id="menubar" class="navbar navbar-default navbar-fixed-top" data-spy="affix">
    <div class="container">
      <div class="navbar-header">
        <button type="button" class="navbar-toggle collapsed" data-toggle="collapse" data-target=".navbar-collapse">
          <span class="sr-only">Toggle navigation</span>
          <i class="fa fa-bars"></i>
        </button>
        <a class="navbar-brand" href="/">
          <img src="/static/img/nav_logo.svg" width="159"/>
        </a>
      </div>

      <div class="collapse navbar-collapse">
        <ul class="nav navbar-nav navbar-right">
          <li>
            <a class="active" href="https://jupyter.org">JUPYTER</a>
          </li>
          <li>
    <a href="/faq" title="FAQ" >
      
        <span>FAQ</span>
      
    </a>
  </li>

          
  
    
  
    
      
        <li>
    <a href="script/github/konstantinstadler/country_converter/blob/master/doc/country_converter_examples.ipynb" title="View as Code" >
      <span class="fa fa-code fa-2x menu-icon"></span>
      <span class="menu-text">View as Code</span>
    </a>
  </li>
      
    
  

  
    <li>
    <a href="#" title="Python 3 Kernel" >
      <span class="fa fa-server fa-2x menu-icon"></span>
      <span class="menu-text">Python 3 Kernel</span>
    </a>
  </li>
  

  
    <li>
    <a href="https://github.com/konstantinstadler/country_converter/blob/master/doc/country_converter_examples.ipynb" title="View on GitHub" >
      <span class="fa fa-github fa-2x menu-icon"></span>
      <span class="menu-text">View on GitHub</span>
    </a>
  </li>
  

  
    <li>
    <a href="https://mybinder.org/v2/gh/konstantinstadler/country_converter/master?filepath=doc/country_converter_examples.ipynb" title="Execute on Binder" >
      <span class="fa fa-icon-binder fa-2x menu-icon"></span>
      <span class="menu-text">Execute on Binder</span>
    </a>
  </li>
  

  <li>
    <a href="https://raw.githubusercontent.com/konstantinstadler/country_converter/master/doc/country_converter_examples.ipynb" title="Download Notebook" download>
      <span class="fa fa-download fa-2x menu-icon"></span>
      <span class="menu-text">Download Notebook</span>
    </a>
  </li>

        </ul>
      </div><!-- /.navbar-collapse -->
      
      
    </div>
  </nav>

  <div class="container container-main">
    
  
  <ol class="breadcrumb">
    
      <li>
        <a href="/github/konstantinstadler/country_converter/tree/master">country_converter</a>
      </li>
    
      <li>
        <a href="/github/konstantinstadler/country_converter/tree/master/doc">doc</a>
      </li>
    
  </ol>
  
  <div id="notebook">
    <div id="notebook-container">
      <div class="cell border-box-sizing text_cell rendered"><div class="prompt input_prompt">
</div><div class="inner_cell">
<div class="text_cell_render border-box-sizing rendered_html">
<h1 id="Country-Converter">Country Converter<a class="anchor-link" href="#Country-Converter">&#182;</a></h1>
</div>
</div>
</div>
<div class="cell border-box-sizing text_cell rendered"><div class="prompt input_prompt">
</div><div class="inner_cell">
<div class="text_cell_render border-box-sizing rendered_html">
<p>The country converter (coco) is a Python package to convert country names into different classifications and between different naming versions. Internally it uses regular expressions to match country names.</p>

</div>
</div>
</div>
<div class="cell border-box-sizing text_cell rendered"><div class="prompt input_prompt">
</div><div class="inner_cell">
<div class="text_cell_render border-box-sizing rendered_html">
<h2 id="Installation">Installation<a class="anchor-link" href="#Installation">&#182;</a></h2>
</div>
</div>
</div>
<div class="cell border-box-sizing text_cell rendered"><div class="prompt input_prompt">
</div><div class="inner_cell">
<div class="text_cell_render border-box-sizing rendered_html">
<p>The package is available as PyPI, use</p>

</div>
</div>
</div>
<div class="cell border-box-sizing text_cell rendered"><div class="prompt input_prompt">
</div><div class="inner_cell">
<div class="text_cell_render border-box-sizing rendered_html">
<p>pip install country_converter  -upgrade</p>

</div>
</div>
</div>
<div class="cell border-box-sizing text_cell rendered"><div class="prompt input_prompt">
</div><div class="inner_cell">
<div class="text_cell_render border-box-sizing rendered_html">
<p>from the command line or use your preferred python package installer.
The sourcecode is available on github: <a href="https://github.com/konstantinstadler/country_converter">https://github.com/konstantinstadler/country_converter</a></p>

</div>
</div>
</div>
<div class="cell border-box-sizing text_cell rendered"><div class="prompt input_prompt">
</div><div class="inner_cell">
<div class="text_cell_render border-box-sizing rendered_html">
<h2 id="Conversion">Conversion<a class="anchor-link" href="#Conversion">&#182;</a></h2>
</div>
</div>
</div>
<div class="cell border-box-sizing text_cell rendered"><div class="prompt input_prompt">
</div><div class="inner_cell">
<div class="text_cell_render border-box-sizing rendered_html">
<p>The country converter provides one main class which is used for the conversion:</p>

</div>
</div>
</div>
<div class="cell border-box-sizing code_cell rendered">
<div class="input">
<div class="prompt input_prompt">In&nbsp;[1]:</div>
<div class="inner_cell">
    <div class="input_area">
<div class=" highlight hl-ipython3"><pre><span></span><span class="kn">import</span> <span class="nn">country_converter</span> <span class="k">as</span> <span class="nn">coco</span>
</pre></div>

    </div>
</div>
</div>

</div>
<div class="cell border-box-sizing code_cell rendered">
<div class="input">
<div class="prompt input_prompt">In&nbsp;[2]:</div>
<div class="inner_cell">
    <div class="input_area">
<div class=" highlight hl-ipython3"><pre><span></span><span class="n">converter</span> <span class="o">=</span> <span class="n">coco</span><span class="o">.</span><span class="n">CountryConverter</span><span class="p">()</span>
</pre></div>

    </div>
</div>
</div>

</div>
<div class="cell border-box-sizing text_cell rendered"><div class="prompt input_prompt">
</div><div class="inner_cell">
<div class="text_cell_render border-box-sizing rendered_html">
<p>Given a list of countries is a certain classification:</p>

</div>
</div>
</div>
<div class="cell border-box-sizing code_cell rendered">
<div class="input">
<div class="prompt input_prompt">In&nbsp;[3]:</div>
<div class="inner_cell">
    <div class="input_area">
<div class=" highlight hl-ipython3"><pre><span></span><span class="n">iso3_codes</span> <span class="o">=</span> <span class="p">[</span><span class="s1">&#39;USA&#39;</span><span class="p">,</span> <span class="s1">&#39;VUT&#39;</span><span class="p">,</span> <span class="s1">&#39;TKL&#39;</span><span class="p">,</span> <span class="s1">&#39;AUT&#39;</span><span class="p">,</span> <span class="s1">&#39;AFG&#39;</span><span class="p">,</span> <span class="s1">&#39;ALB&#39;</span><span class="p">]</span>
</pre></div>

    </div>
</div>
</div>

</div>
<div class="cell border-box-sizing text_cell rendered"><div class="prompt input_prompt">
</div><div class="inner_cell">
<div class="text_cell_render border-box-sizing rendered_html">
<p>This can be converted to any classification provided by:</p>

</div>
</div>
</div>
<div class="cell border-box-sizing code_cell rendered">
<div class="input">
<div class="prompt input_prompt">In&nbsp;[4]:</div>
<div class="inner_cell">
    <div class="input_area">
<div class=" highlight hl-ipython3"><pre><span></span><span class="n">converter</span><span class="o">.</span><span class="n">convert</span><span class="p">(</span><span class="n">names</span> <span class="o">=</span> <span class="n">iso3_codes</span><span class="p">,</span> <span class="n">src</span> <span class="o">=</span> <span class="s1">&#39;ISO3&#39;</span><span class="p">,</span> <span class="n">to</span> <span class="o">=</span> <span class="s1">&#39;name_official&#39;</span><span class="p">)</span>
</pre></div>

    </div>
</div>
</div>

<div class="output_wrapper">
<div class="output">


<div class="output_area">

    <div class="prompt output_prompt">Out[4]:</div>




<div class="output_text output_subarea output_execute_result">
<pre>[&#39;United States of America&#39;,
 &#39;Republic of Vanuatu&#39;,
 &#39;Tokelau&#39;,
 &#39;Republic of Austria&#39;,
 &#39;Islamic Republic of Afghanistan&#39;,
 &#39;Republic of Albania&#39;]</pre>
</div>

</div>

</div>
</div>

</div>
<div class="cell border-box-sizing text_cell rendered"><div class="prompt input_prompt">
</div><div class="inner_cell">
<div class="text_cell_render border-box-sizing rendered_html">
<p>or</p>

</div>
</div>
</div>
<div class="cell border-box-sizing code_cell rendered">
<div class="input">
<div class="prompt input_prompt">In&nbsp;[5]:</div>
<div class="inner_cell">
    <div class="input_area">
<div class=" highlight hl-ipython3"><pre><span></span><span class="n">converter</span><span class="o">.</span><span class="n">convert</span><span class="p">(</span><span class="n">names</span> <span class="o">=</span> <span class="n">iso3_codes</span><span class="p">,</span> <span class="n">src</span> <span class="o">=</span> <span class="s1">&#39;ISO3&#39;</span><span class="p">,</span> <span class="n">to</span> <span class="o">=</span> <span class="s1">&#39;continent&#39;</span><span class="p">)</span>
</pre></div>

    </div>
</div>
</div>

<div class="output_wrapper">
<div class="output">


<div class="output_area">

    <div class="prompt output_prompt">Out[5]:</div>




<div class="output_text output_subarea output_execute_result">
<pre>[&#39;America&#39;, &#39;Oceania&#39;, &#39;Oceania&#39;, &#39;Europe&#39;, &#39;Asia&#39;, &#39;Europe&#39;]</pre>
</div>

</div>

</div>
</div>

</div>
<div class="cell border-box-sizing text_cell rendered"><div class="prompt input_prompt">
</div><div class="inner_cell">
<div class="text_cell_render border-box-sizing rendered_html">
<p>The parameter "src" specifies the input-, "to" the output format. Possible values for both parameter can be found by:</p>

</div>
</div>
</div>
<div class="cell border-box-sizing code_cell rendered">
<div class="input">
<div class="prompt input_prompt">In&nbsp;[6]:</div>
<div class="inner_cell">
    <div class="input_area">
<div class=" highlight hl-ipython3"><pre><span></span><span class="n">converter</span><span class="o">.</span><span class="n">valid_class</span>
</pre></div>

    </div>
</div>
</div>

<div class="output_wrapper">
<div class="output">


<div class="output_area">

    <div class="prompt output_prompt">Out[6]:</div>




<div class="output_text output_subarea output_execute_result">
<pre>[&#39;APEC&#39;,
 &#39;BASIC&#39;,
 &#39;BRIC&#39;,
 &#39;CIS&#39;,
 &#39;Cecilia2050&#39;,
 &#39;EU&#39;,
 &#39;EURO&#39;,
 &#39;EXIO1&#39;,
 &#39;EXIO2&#39;,
 &#39;EXIO3&#39;,
 &#39;Eora&#39;,
 &#39;G20&#39;,
 &#39;G7&#39;,
 &#39;ISO2&#39;,
 &#39;ISO3&#39;,
 &#39;ISOnumeric&#39;,
 &#39;MESSAGE&#39;,
 &#39;OECD&#39;,
 &#39;UNcode&#39;,
 &#39;UNmember&#39;,
 &#39;UNregion&#39;,
 &#39;WIOD&#39;,
 &#39;continent&#39;,
 &#39;name_official&#39;,
 &#39;name_short&#39;,
 &#39;obsolete&#39;,
 &#39;regex&#39;]</pre>
</div>

</div>

</div>
</div>

</div>
<div class="cell border-box-sizing text_cell rendered"><div class="prompt input_prompt">
</div><div class="inner_cell">
<div class="text_cell_render border-box-sizing rendered_html">
<p>Internally, these names are the column header of the underlying pandas dataframe (see below).</p>

</div>
</div>
</div>
<div class="cell border-box-sizing text_cell rendered"><div class="prompt input_prompt">
</div><div class="inner_cell">
<div class="text_cell_render border-box-sizing rendered_html">
<p>The convert function can also be accessed without initiating the CountryConverter. This can be useful for one time usage. For multiple matchings, initiating the CountryCotnverter avoids that the file providing the matching data gets read in for each conversion.</p>

</div>
</div>
</div>
<div class="cell border-box-sizing code_cell rendered">
<div class="input">
<div class="prompt input_prompt">In&nbsp;[7]:</div>
<div class="inner_cell">
    <div class="input_area">
<div class=" highlight hl-ipython3"><pre><span></span><span class="n">converter</span><span class="o">.</span><span class="n">convert</span><span class="p">(</span><span class="n">names</span> <span class="o">=</span> <span class="n">iso3_codes</span><span class="p">,</span> <span class="n">src</span> <span class="o">=</span> <span class="s1">&#39;ISO3&#39;</span><span class="p">,</span> <span class="n">to</span> <span class="o">=</span> <span class="s1">&#39;ISO2&#39;</span><span class="p">)</span>
</pre></div>

    </div>
</div>
</div>

<div class="output_wrapper">
<div class="output">


<div class="output_area">

    <div class="prompt output_prompt">Out[7]:</div>




<div class="output_text output_subarea output_execute_result">
<pre>[&#39;US&#39;, &#39;VU&#39;, &#39;TK&#39;, &#39;AT&#39;, &#39;AF&#39;, &#39;AL&#39;]</pre>
</div>

</div>

</div>
</div>

</div>
<div class="cell border-box-sizing text_cell rendered"><div class="prompt input_prompt">
</div><div class="inner_cell">
<div class="text_cell_render border-box-sizing rendered_html">
<p>Some of the classifications can be accessed by some shortcuts. For example:</p>

</div>
</div>
</div>
<div class="cell border-box-sizing code_cell rendered">
<div class="input">
<div class="prompt input_prompt">In&nbsp;[8]:</div>
<div class="inner_cell">
    <div class="input_area">
<div class=" highlight hl-ipython3"><pre><span></span><span class="n">converter</span><span class="o">.</span><span class="n">EU27</span>
</pre></div>

    </div>
</div>
</div>

<div class="output_wrapper">
<div class="output">


<div class="output_area">

    <div class="prompt output_prompt">Out[8]:</div>



<div class="output_html rendered_html output_subarea output_execute_result">
<div>
<style scoped>
    .dataframe tbody tr th:only-of-type {
        vertical-align: middle;
    }

    .dataframe tbody tr th {
        vertical-align: top;
    }

    .dataframe thead th {
        text-align: right;
    }
</style>
<table border="1" class="dataframe">
  <thead>
    <tr style="text-align: right;">
      <th></th>
      <th>name_short</th>
    </tr>
  </thead>
  <tbody>
    <tr>
      <th>14</th>
      <td>Austria</td>
    </tr>
    <tr>
      <th>21</th>
      <td>Belgium</td>
    </tr>
    <tr>
      <th>35</th>
      <td>Bulgaria</td>
    </tr>
    <tr>
      <th>58</th>
      <td>Cyprus</td>
    </tr>
    <tr>
      <th>59</th>
      <td>Czech Republic</td>
    </tr>
    <tr>
      <th>60</th>
      <td>Denmark</td>
    </tr>
    <tr>
      <th>70</th>
      <td>Estonia</td>
    </tr>
    <tr>
      <th>76</th>
      <td>Finland</td>
    </tr>
    <tr>
      <th>77</th>
      <td>France</td>
    </tr>
    <tr>
      <th>84</th>
      <td>Germany</td>
    </tr>
    <tr>
      <th>87</th>
      <td>Greece</td>
    </tr>
    <tr>
      <th>101</th>
      <td>Hungary</td>
    </tr>
    <tr>
      <th>107</th>
      <td>Ireland</td>
    </tr>
    <tr>
      <th>110</th>
      <td>Italy</td>
    </tr>
    <tr>
      <th>122</th>
      <td>Latvia</td>
    </tr>
    <tr>
      <th>128</th>
      <td>Lithuania</td>
    </tr>
    <tr>
      <th>129</th>
      <td>Luxembourg</td>
    </tr>
    <tr>
      <th>137</th>
      <td>Malta</td>
    </tr>
    <tr>
      <th>156</th>
      <td>Netherlands</td>
    </tr>
    <tr>
      <th>177</th>
      <td>Poland</td>
    </tr>
    <tr>
      <th>178</th>
      <td>Portugal</td>
    </tr>
    <tr>
      <th>182</th>
      <td>Romania</td>
    </tr>
    <tr>
      <th>196</th>
      <td>Slovakia</td>
    </tr>
    <tr>
      <th>197</th>
      <td>Slovenia</td>
    </tr>
    <tr>
      <th>204</th>
      <td>Spain</td>
    </tr>
    <tr>
      <th>215</th>
      <td>Sweden</td>
    </tr>
    <tr>
      <th>235</th>
      <td>United Kingdom</td>
    </tr>
  </tbody>
</table>
</div>
</div>

</div>

</div>
</div>

</div>
<div class="cell border-box-sizing code_cell rendered">
<div class="input">
<div class="prompt input_prompt">In&nbsp;[9]:</div>
<div class="inner_cell">
    <div class="input_area">
<div class=" highlight hl-ipython3"><pre><span></span><span class="n">converter</span><span class="o">.</span><span class="n">OECDas</span><span class="p">(</span><span class="s1">&#39;ISO2&#39;</span><span class="p">)</span>
</pre></div>

    </div>
</div>
</div>

<div class="output_wrapper">
<div class="output">


<div class="output_area">

    <div class="prompt output_prompt">Out[9]:</div>



<div class="output_html rendered_html output_subarea output_execute_result">
<div>
<style scoped>
    .dataframe tbody tr th:only-of-type {
        vertical-align: middle;
    }

    .dataframe tbody tr th {
        vertical-align: top;
    }

    .dataframe thead th {
        text-align: right;
    }
</style>
<table border="1" class="dataframe">
  <thead>
    <tr style="text-align: right;">
      <th></th>
      <th>ISO2</th>
    </tr>
  </thead>
  <tbody>
    <tr>
      <th>13</th>
      <td>AU</td>
    </tr>
    <tr>
      <th>14</th>
      <td>AT</td>
    </tr>
    <tr>
      <th>21</th>
      <td>BE</td>
    </tr>
    <tr>
      <th>41</th>
      <td>CA</td>
    </tr>
    <tr>
      <th>45</th>
      <td>CL</td>
    </tr>
    <tr>
      <th>59</th>
      <td>CZ</td>
    </tr>
    <tr>
      <th>60</th>
      <td>DK</td>
    </tr>
    <tr>
      <th>70</th>
      <td>EE</td>
    </tr>
    <tr>
      <th>76</th>
      <td>FI</td>
    </tr>
    <tr>
      <th>77</th>
      <td>FR</td>
    </tr>
    <tr>
      <th>84</th>
      <td>DE</td>
    </tr>
    <tr>
      <th>87</th>
      <td>GR</td>
    </tr>
    <tr>
      <th>101</th>
      <td>HU</td>
    </tr>
    <tr>
      <th>102</th>
      <td>IS</td>
    </tr>
    <tr>
      <th>107</th>
      <td>IE</td>
    </tr>
    <tr>
      <th>109</th>
      <td>IL</td>
    </tr>
    <tr>
      <th>110</th>
      <td>IT</td>
    </tr>
    <tr>
      <th>112</th>
      <td>JP</td>
    </tr>
    <tr>
      <th>122</th>
      <td>LV</td>
    </tr>
    <tr>
      <th>129</th>
      <td>LU</td>
    </tr>
    <tr>
      <th>143</th>
      <td>MX</td>
    </tr>
    <tr>
      <th>156</th>
      <td>NL</td>
    </tr>
    <tr>
      <th>158</th>
      <td>NZ</td>
    </tr>
    <tr>
      <th>166</th>
      <td>NO</td>
    </tr>
    <tr>
      <th>177</th>
      <td>PL</td>
    </tr>
    <tr>
      <th>178</th>
      <td>PT</td>
    </tr>
    <tr>
      <th>196</th>
      <td>SK</td>
    </tr>
    <tr>
      <th>197</th>
      <td>SI</td>
    </tr>
    <tr>
      <th>202</th>
      <td>KR</td>
    </tr>
    <tr>
      <th>204</th>
      <td>ES</td>
    </tr>
    <tr>
      <th>215</th>
      <td>SE</td>
    </tr>
    <tr>
      <th>216</th>
      <td>CH</td>
    </tr>
    <tr>
      <th>228</th>
      <td>TR</td>
    </tr>
    <tr>
      <th>235</th>
      <td>GB</td>
    </tr>
    <tr>
      <th>236</th>
      <td>US</td>
    </tr>
  </tbody>
</table>
</div>
</div>

</div>

</div>
</div>

</div>
<div class="cell border-box-sizing text_cell rendered"><div class="prompt input_prompt">
</div><div class="inner_cell">
<div class="text_cell_render border-box-sizing rendered_html">
<h2 id="Handling-missing-data">Handling missing data<a class="anchor-link" href="#Handling-missing-data">&#182;</a></h2>
</div>
</div>
</div>
<div class="cell border-box-sizing text_cell rendered"><div class="prompt input_prompt">
</div><div class="inner_cell">
<div class="text_cell_render border-box-sizing rendered_html">
<p>The return value for non-found entries is be default set to 'not found':</p>

</div>
</div>
</div>
<div class="cell border-box-sizing code_cell rendered">
<div class="input">
<div class="prompt input_prompt">In&nbsp;[10]:</div>
<div class="inner_cell">
    <div class="input_area">
<div class=" highlight hl-ipython3"><pre><span></span><span class="n">iso3_codes_missing</span> <span class="o">=</span> <span class="p">[</span><span class="s1">&#39;ABC&#39;</span><span class="p">,</span> <span class="s1">&#39;AUT&#39;</span><span class="p">,</span> <span class="s1">&#39;XXX&#39;</span><span class="p">]</span>
<span class="n">converter</span><span class="o">.</span><span class="n">convert</span><span class="p">(</span><span class="n">iso3_codes_missing</span><span class="p">,</span> <span class="n">src</span><span class="o">=</span><span class="s1">&#39;ISO3&#39;</span><span class="p">)</span>
</pre></div>

    </div>
</div>
</div>

<div class="output_wrapper">
<div class="output">


<div class="output_area">

    <div class="prompt"></div>


<div class="output_subarea output_stream output_stderr output_text">
<pre>WARNING:root:ABC not found in ISO3
WARNING:root:XXX not found in ISO3
</pre>
</div>
</div>

<div class="output_area">

    <div class="prompt output_prompt">Out[10]:</div>




<div class="output_text output_subarea output_execute_result">
<pre>[&#39;not found&#39;, &#39;AUT&#39;, &#39;not found&#39;]</pre>
</div>

</div>

</div>
</div>

</div>
<div class="cell border-box-sizing text_cell rendered"><div class="prompt input_prompt">
</div><div class="inner_cell">
<div class="text_cell_render border-box-sizing rendered_html">
<p>but can also be rest to something else:</p>

</div>
</div>
</div>
<div class="cell border-box-sizing code_cell rendered">
<div class="input">
<div class="prompt input_prompt">In&nbsp;[11]:</div>
<div class="inner_cell">
    <div class="input_area">
<div class=" highlight hl-ipython3"><pre><span></span><span class="n">converter</span><span class="o">.</span><span class="n">convert</span><span class="p">(</span><span class="n">iso3_codes_missing</span><span class="p">,</span> <span class="n">src</span><span class="o">=</span><span class="s1">&#39;ISO3&#39;</span><span class="p">,</span> <span class="n">not_found</span><span class="o">=</span><span class="s1">&#39;missing&#39;</span><span class="p">)</span>
</pre></div>

    </div>
</div>
</div>

<div class="output_wrapper">
<div class="output">


<div class="output_area">

    <div class="prompt"></div>


<div class="output_subarea output_stream output_stderr output_text">
<pre>WARNING:root:ABC not found in ISO3
WARNING:root:XXX not found in ISO3
</pre>
</div>
</div>

<div class="output_area">

    <div class="prompt output_prompt">Out[11]:</div>




<div class="output_text output_subarea output_execute_result">
<pre>[&#39;missing&#39;, &#39;AUT&#39;, &#39;missing&#39;]</pre>
</div>

</div>

</div>
</div>

</div>
<div class="cell border-box-sizing text_cell rendered"><div class="prompt input_prompt">
</div><div class="inner_cell">
<div class="text_cell_render border-box-sizing rendered_html">
<p>Alternativly, the non-found entries can be passed through by passing None to not_found:</p>

</div>
</div>
</div>
<div class="cell border-box-sizing code_cell rendered">
<div class="input">
<div class="prompt input_prompt">In&nbsp;[12]:</div>
<div class="inner_cell">
    <div class="input_area">
<div class=" highlight hl-ipython3"><pre><span></span><span class="n">converter</span><span class="o">.</span><span class="n">convert</span><span class="p">(</span><span class="n">iso3_codes_missing</span><span class="p">,</span> <span class="n">src</span><span class="o">=</span><span class="s1">&#39;ISO3&#39;</span><span class="p">,</span> <span class="n">not_found</span><span class="o">=</span><span class="kc">None</span><span class="p">)</span>
</pre></div>

    </div>
</div>
</div>

<div class="output_wrapper">
<div class="output">


<div class="output_area">

    <div class="prompt"></div>


<div class="output_subarea output_stream output_stderr output_text">
<pre>WARNING:root:ABC not found in ISO3
WARNING:root:XXX not found in ISO3
</pre>
</div>
</div>

<div class="output_area">

    <div class="prompt output_prompt">Out[12]:</div>




<div class="output_text output_subarea output_execute_result">
<pre>[&#39;ABC&#39;, &#39;AUT&#39;, &#39;XXX&#39;]</pre>
</div>

</div>

</div>
</div>

</div>
<div class="cell border-box-sizing text_cell rendered"><div class="prompt input_prompt">
</div><div class="inner_cell">
<div class="text_cell_render border-box-sizing rendered_html">
<p>To extend the underlying dataset, an additional dataframe (or file) can be passed.</p>

</div>
</div>
</div>
<div class="cell border-box-sizing code_cell rendered">
<div class="input">
<div class="prompt input_prompt">In&nbsp;[13]:</div>
<div class="inner_cell">
    <div class="input_area">
<div class=" highlight hl-ipython3"><pre><span></span><span class="kn">import</span> <span class="nn">pandas</span> <span class="k">as</span> <span class="nn">pd</span>
<span class="n">add_data</span> <span class="o">=</span> <span class="n">pd</span><span class="o">.</span><span class="n">DataFrame</span><span class="o">.</span><span class="n">from_dict</span><span class="p">({</span>
       <span class="s1">&#39;name_short&#39;</span> <span class="p">:</span> <span class="p">[</span><span class="s1">&#39;xxx country&#39;</span><span class="p">,</span> <span class="s1">&#39;abc country&#39;</span><span class="p">],</span>
       <span class="s1">&#39;name_official&#39;</span> <span class="p">:</span> <span class="p">[</span><span class="s1">&#39;The XXX country&#39;</span><span class="p">,</span> <span class="s1">&#39;The ABC country&#39;</span><span class="p">],</span>
       <span class="s1">&#39;regex&#39;</span> <span class="p">:</span> <span class="p">[</span><span class="s1">&#39;xxx country&#39;</span><span class="p">,</span> <span class="s1">&#39;abc country&#39;</span><span class="p">],</span> 
       <span class="s1">&#39;ISO3&#39;</span><span class="p">:</span> <span class="p">[</span><span class="s1">&#39;xxx&#39;</span><span class="p">,</span> <span class="s1">&#39;abc&#39;</span><span class="p">]}</span>
<span class="p">)</span>
</pre></div>

    </div>
</div>
</div>

</div>
<div class="cell border-box-sizing code_cell rendered">
<div class="input">
<div class="prompt input_prompt">In&nbsp;[14]:</div>
<div class="inner_cell">
    <div class="input_area">
<div class=" highlight hl-ipython3"><pre><span></span><span class="n">add_data</span>
</pre></div>

    </div>
</div>
</div>

<div class="output_wrapper">
<div class="output">


<div class="output_area">

    <div class="prompt output_prompt">Out[14]:</div>



<div class="output_html rendered_html output_subarea output_execute_result">
<div>
<style scoped>
    .dataframe tbody tr th:only-of-type {
        vertical-align: middle;
    }

    .dataframe tbody tr th {
        vertical-align: top;
    }

    .dataframe thead th {
        text-align: right;
    }
</style>
<table border="1" class="dataframe">
  <thead>
    <tr style="text-align: right;">
      <th></th>
      <th>name_short</th>
      <th>name_official</th>
      <th>regex</th>
      <th>ISO3</th>
    </tr>
  </thead>
  <tbody>
    <tr>
      <th>0</th>
      <td>xxx country</td>
      <td>The XXX country</td>
      <td>xxx country</td>
      <td>xxx</td>
    </tr>
    <tr>
      <th>1</th>
      <td>abc country</td>
      <td>The ABC country</td>
      <td>abc country</td>
      <td>abc</td>
    </tr>
  </tbody>
</table>
</div>
</div>

</div>

</div>
</div>

</div>
<div class="cell border-box-sizing code_cell rendered">
<div class="input">
<div class="prompt input_prompt">In&nbsp;[15]:</div>
<div class="inner_cell">
    <div class="input_area">
<div class=" highlight hl-ipython3"><pre><span></span><span class="n">extended_converter</span> <span class="o">=</span> <span class="n">coco</span><span class="o">.</span><span class="n">CountryConverter</span><span class="p">(</span><span class="n">additional_data</span><span class="o">=</span><span class="n">add_data</span><span class="p">)</span>
<span class="n">extended_converter</span><span class="o">.</span><span class="n">convert</span><span class="p">(</span><span class="n">iso3_codes_missing</span><span class="p">,</span> <span class="n">src</span><span class="o">=</span><span class="s1">&#39;ISO3&#39;</span><span class="p">,</span> <span class="n">to</span><span class="o">=</span><span class="s1">&#39;name_short&#39;</span><span class="p">)</span>
</pre></div>

    </div>
</div>
</div>

<div class="output_wrapper">
<div class="output">


<div class="output_area">

    <div class="prompt output_prompt">Out[15]:</div>




<div class="output_text output_subarea output_execute_result">
<pre>[&#39;abc country&#39;, &#39;Austria&#39;, &#39;xxx country&#39;]</pre>
</div>

</div>

</div>
</div>

</div>
<div class="cell border-box-sizing text_cell rendered"><div class="prompt input_prompt">
</div><div class="inner_cell">
<div class="text_cell_render border-box-sizing rendered_html">
<p>Alternatively to a ad hoc dataframe, additional datafiles can be passed. These must have the same format as basic data set. 
An example can be found here: 
<a href="https://github.com/konstantinstadler/country_converter/tree/master/tests/custom_data_example.txt">https://github.com/konstantinstadler/country_converter/tree/master/tests/custom_data_example.txt</a></p>
<p>The custom data example contains the ISO3 code mapping for Romania before 2002 and switches the regex matching for congo between DR Congo and Congo Republic.</p>
<p>To use is pass the path to the additional country file:</p>

</div>
</div>
</div>
<div class="cell border-box-sizing code_cell rendered">
<div class="input">
<div class="prompt input_prompt">In&nbsp;[16]:</div>
<div class="inner_cell">
    <div class="input_area">
<div class=" highlight hl-ipython3"><pre><span></span><span class="c1"># extended_converter = coco.CountryConverter(additional_data=path/to/datafile)</span>
</pre></div>

    </div>
</div>
</div>

</div>
<div class="cell border-box-sizing text_cell rendered"><div class="prompt input_prompt">
</div><div class="inner_cell">
<div class="text_cell_render border-box-sizing rendered_html">
<p>The passed data (file or dataframe) must at least contain the headers 'name_official', 'name_short' and 'regex'. Of course, if the additional data shall be used to a conversion to any other field, these must also be included.</p>

</div>
</div>
</div>
<div class="cell border-box-sizing text_cell rendered"><div class="prompt input_prompt">
</div><div class="inner_cell">
<div class="text_cell_render border-box-sizing rendered_html">
<p>Additionally passed data always overwrites the existing one.
This can be used to adjust coco for datasets with wrong country names. 
For example, assuming a dataset erroneous switched the ISO2 codes for India (IN) and Indonesia (ID) (therefore assuming 'ID' for India and 'IN' for Indonesia), one can accomedate for that by:</p>

</div>
</div>
</div>
<div class="cell border-box-sizing code_cell rendered">
<div class="input">
<div class="prompt input_prompt">In&nbsp;[17]:</div>
<div class="inner_cell">
    <div class="input_area">
<div class=" highlight hl-ipython3"><pre><span></span><span class="n">switched_converter</span> <span class="o">=</span> <span class="n">coco</span><span class="o">.</span><span class="n">CountryConverter</span><span class="p">(</span><span class="n">additional_data</span><span class="o">=</span><span class="n">pd</span><span class="o">.</span><span class="n">DataFrame</span><span class="o">.</span><span class="n">from_dict</span><span class="p">({</span>
       <span class="s1">&#39;name_short&#39;</span> <span class="p">:</span> <span class="p">[</span><span class="s1">&#39;India&#39;</span><span class="p">,</span> <span class="s1">&#39;Indonesia&#39;</span><span class="p">],</span>
       <span class="s1">&#39;name_official&#39;</span> <span class="p">:</span> <span class="p">[</span><span class="s1">&#39;India&#39;</span><span class="p">,</span> <span class="s1">&#39;Indonesia&#39;</span><span class="p">],</span>
       <span class="s1">&#39;regex&#39;</span> <span class="p">:</span> <span class="p">[</span><span class="s1">&#39;india&#39;</span><span class="p">,</span> <span class="s1">&#39;indonesia&#39;</span><span class="p">],</span> 
       <span class="s1">&#39;ISO2&#39;</span><span class="p">:</span> <span class="p">[</span><span class="s1">&#39;ID&#39;</span><span class="p">,</span> <span class="s1">&#39;IN&#39;</span><span class="p">]}))</span>
</pre></div>

    </div>
</div>
</div>

<div class="output_wrapper">
<div class="output">


<div class="output_area">

    <div class="prompt"></div>


<div class="output_subarea output_stream output_stderr output_text">
<pre>WARNING:root:Duplicated values in column name_short of merged data - keep last one
WARNING:root:Duplicated values in column regex of merged data - keep last one
</pre>
</div>
</div>

</div>
</div>

</div>
<div class="cell border-box-sizing code_cell rendered">
<div class="input">
<div class="prompt input_prompt">In&nbsp;[18]:</div>
<div class="inner_cell">
    <div class="input_area">
<div class=" highlight hl-ipython3"><pre><span></span><span class="n">converter</span><span class="o">.</span><span class="n">convert</span><span class="p">(</span><span class="s1">&#39;IN&#39;</span><span class="p">,</span> <span class="n">src</span><span class="o">=</span><span class="s1">&#39;ISO2&#39;</span><span class="p">,</span> <span class="n">to</span><span class="o">=</span><span class="s1">&#39;name_short&#39;</span><span class="p">)</span>
</pre></div>

    </div>
</div>
</div>

<div class="output_wrapper">
<div class="output">


<div class="output_area">

    <div class="prompt output_prompt">Out[18]:</div>




<div class="output_text output_subarea output_execute_result">
<pre>&#39;India&#39;</pre>
</div>

</div>

</div>
</div>

</div>
<div class="cell border-box-sizing code_cell rendered">
<div class="input">
<div class="prompt input_prompt">In&nbsp;[19]:</div>
<div class="inner_cell">
    <div class="input_area">
<div class=" highlight hl-ipython3"><pre><span></span><span class="n">switched_converter</span><span class="o">.</span><span class="n">convert</span><span class="p">(</span><span class="s1">&#39;ID&#39;</span><span class="p">,</span> <span class="n">src</span><span class="o">=</span><span class="s1">&#39;ISO2&#39;</span><span class="p">,</span> <span class="n">to</span><span class="o">=</span><span class="s1">&#39;name_short&#39;</span><span class="p">)</span>
</pre></div>

    </div>
</div>
</div>

<div class="output_wrapper">
<div class="output">


<div class="output_area">

    <div class="prompt output_prompt">Out[19]:</div>




<div class="output_text output_subarea output_execute_result">
<pre>&#39;India&#39;</pre>
</div>

</div>

</div>
</div>

</div>
<div class="cell border-box-sizing text_cell rendered"><div class="prompt input_prompt">
</div><div class="inner_cell">
<div class="text_cell_render border-box-sizing rendered_html">
<h2 id="Regular-expression-matching">Regular expression matching<a class="anchor-link" href="#Regular-expression-matching">&#182;</a></h2>
</div>
</div>
</div>
<div class="cell border-box-sizing text_cell rendered"><div class="prompt input_prompt">
</div><div class="inner_cell">
<div class="text_cell_render border-box-sizing rendered_html">
<p>The input parameter "src" can be set to "regex" to use regular expression matching for a given country list. For example:</p>

</div>
</div>
</div>
<div class="cell border-box-sizing code_cell rendered">
<div class="input">
<div class="prompt input_prompt">In&nbsp;[20]:</div>
<div class="inner_cell">
    <div class="input_area">
<div class=" highlight hl-ipython3"><pre><span></span><span class="n">some_names</span> <span class="o">=</span> <span class="p">[</span><span class="s1">&#39;United Rep. of Tanzania&#39;</span><span class="p">,</span> <span class="s1">&#39;Cape Verde&#39;</span><span class="p">,</span> <span class="s1">&#39;Burma&#39;</span><span class="p">,</span> <span class="s1">&#39;Iran (Islamic Republic of)&#39;</span><span class="p">,</span> <span class="s1">&#39;Korea, Republic of&#39;</span><span class="p">,</span> <span class="s2">&quot;Dem. People&#39;s Rep. of Korea&quot;</span><span class="p">]</span>
</pre></div>

    </div>
</div>
</div>

</div>
<div class="cell border-box-sizing code_cell rendered">
<div class="input">
<div class="prompt input_prompt">In&nbsp;[21]:</div>
<div class="inner_cell">
    <div class="input_area">
<div class=" highlight hl-ipython3"><pre><span></span><span class="n">coco</span><span class="o">.</span><span class="n">convert</span><span class="p">(</span><span class="n">names</span> <span class="o">=</span> <span class="n">some_names</span><span class="p">,</span> <span class="n">src</span> <span class="o">=</span> <span class="s2">&quot;regex&quot;</span><span class="p">,</span> <span class="n">to</span> <span class="o">=</span> <span class="s2">&quot;name_short&quot;</span><span class="p">)</span>
</pre></div>

    </div>
</div>
</div>

<div class="output_wrapper">
<div class="output">


<div class="output_area">

    <div class="prompt output_prompt">Out[21]:</div>




<div class="output_text output_subarea output_execute_result">
<pre>[&#39;Tanzania&#39;, &#39;Cabo Verde&#39;, &#39;Myanmar&#39;, &#39;Iran&#39;, &#39;South Korea&#39;, &#39;North Korea&#39;]</pre>
</div>

</div>

</div>
</div>

</div>
<div class="cell border-box-sizing text_cell rendered"><div class="prompt input_prompt">
</div><div class="inner_cell">
<div class="text_cell_render border-box-sizing rendered_html">
<p>The regular expressions can also be used to match any list of countries to any other. For example:</p>

</div>
</div>
</div>
<div class="cell border-box-sizing code_cell rendered">
<div class="input">
<div class="prompt input_prompt">In&nbsp;[22]:</div>
<div class="inner_cell">
    <div class="input_area">
<div class=" highlight hl-ipython3"><pre><span></span><span class="n">match_these</span> <span class="o">=</span> <span class="p">[</span><span class="s1">&#39;norway&#39;</span><span class="p">,</span> <span class="s1">&#39;united_states&#39;</span><span class="p">,</span> <span class="s1">&#39;china&#39;</span><span class="p">,</span> <span class="s1">&#39;taiwan&#39;</span><span class="p">]</span>
<span class="n">master_list</span> <span class="o">=</span> <span class="p">[</span><span class="s1">&#39;USA&#39;</span><span class="p">,</span> <span class="s1">&#39;The Swedish Kingdom&#39;</span><span class="p">,</span> <span class="s1">&#39;Norway is a Kingdom too&#39;</span><span class="p">,</span> <span class="s1">&#39;Peoples Republic of China&#39;</span><span class="p">,</span> <span class="s1">&#39;Republic of China&#39;</span> <span class="p">]</span>

<span class="n">coco</span><span class="o">.</span><span class="n">match</span><span class="p">(</span><span class="n">match_these</span><span class="p">,</span> <span class="n">master_list</span><span class="p">)</span>
</pre></div>

    </div>
</div>
</div>

<div class="output_wrapper">
<div class="output">


<div class="output_area">

    <div class="prompt output_prompt">Out[22]:</div>




<div class="output_text output_subarea output_execute_result">
<pre>{&#39;norway&#39;: &#39;Norway is a Kingdom too&#39;,
 &#39;united_states&#39;: &#39;USA&#39;,
 &#39;china&#39;: &#39;Peoples Republic of China&#39;,
 &#39;taiwan&#39;: &#39;Republic of China&#39;}</pre>
</div>

</div>

</div>
</div>

</div>
<div class="cell border-box-sizing text_cell rendered"><div class="prompt input_prompt">
</div><div class="inner_cell">
<div class="text_cell_render border-box-sizing rendered_html">
<p>If the regular expression matches several times, all results are given as list and a warning is generated:</p>

</div>
</div>
</div>
<div class="cell border-box-sizing code_cell rendered">
<div class="input">
<div class="prompt input_prompt">In&nbsp;[23]:</div>
<div class="inner_cell">
    <div class="input_area">
<div class=" highlight hl-ipython3"><pre><span></span><span class="n">match_these</span> <span class="o">=</span> <span class="p">[</span><span class="s1">&#39;norway&#39;</span><span class="p">,</span> <span class="s1">&#39;united_states&#39;</span><span class="p">,</span> <span class="s1">&#39;china&#39;</span><span class="p">,</span> <span class="s1">&#39;taiwan&#39;</span><span class="p">]</span>
<span class="n">master_list</span> <span class="o">=</span> <span class="p">[</span><span class="s1">&#39;USA&#39;</span><span class="p">,</span> <span class="s1">&#39;The Swedish Kingdom&#39;</span><span class="p">,</span> <span class="s1">&#39;Norway is a Kingdom too&#39;</span><span class="p">,</span> <span class="s1">&#39;Peoples Republic of China&#39;</span><span class="p">,</span> <span class="s1">&#39;Taiwan, province of china&#39;</span><span class="p">,</span> <span class="s1">&#39;Republic of China&#39;</span> <span class="p">]</span>

<span class="n">coco</span><span class="o">.</span><span class="n">match</span><span class="p">(</span><span class="n">match_these</span><span class="p">,</span> <span class="n">master_list</span><span class="p">)</span>
</pre></div>

    </div>
</div>
</div>

<div class="output_wrapper">
<div class="output">


<div class="output_area">

    <div class="prompt"></div>


<div class="output_subarea output_stream output_stderr output_text">
<pre>WARNING:root:Multiple matches for name taiwan in list_b
</pre>
</div>
</div>

<div class="output_area">

    <div class="prompt output_prompt">Out[23]:</div>




<div class="output_text output_subarea output_execute_result">
<pre>{&#39;norway&#39;: &#39;Norway is a Kingdom too&#39;,
 &#39;united_states&#39;: &#39;USA&#39;,
 &#39;china&#39;: &#39;Peoples Republic of China&#39;,
 &#39;taiwan&#39;: [&#39;Taiwan, province of china&#39;, &#39;Republic of China&#39;]}</pre>
</div>

</div>

</div>
</div>

</div>
<div class="cell border-box-sizing text_cell rendered"><div class="prompt input_prompt">
</div><div class="inner_cell">
<div class="text_cell_render border-box-sizing rendered_html">
<p>The parameter "enforce_sublist" can be set to ensure consistent output:</p>

</div>
</div>
</div>
<div class="cell border-box-sizing code_cell rendered">
<div class="input">
<div class="prompt input_prompt">In&nbsp;[24]:</div>
<div class="inner_cell">
    <div class="input_area">
<div class=" highlight hl-ipython3"><pre><span></span><span class="n">coco</span><span class="o">.</span><span class="n">match</span><span class="p">(</span><span class="n">match_these</span><span class="p">,</span> <span class="n">master_list</span><span class="p">,</span> <span class="n">enforce_sublist</span> <span class="o">=</span> <span class="kc">True</span><span class="p">)</span>
</pre></div>

    </div>
</div>
</div>

<div class="output_wrapper">
<div class="output">


<div class="output_area">

    <div class="prompt"></div>


<div class="output_subarea output_stream output_stderr output_text">
<pre>WARNING:root:Multiple matches for name taiwan in list_b
</pre>
</div>
</div>

<div class="output_area">

    <div class="prompt output_prompt">Out[24]:</div>




<div class="output_text output_subarea output_execute_result">
<pre>{&#39;norway&#39;: [&#39;Norway is a Kingdom too&#39;],
 &#39;united_states&#39;: [&#39;USA&#39;],
 &#39;china&#39;: [&#39;Peoples Republic of China&#39;],
 &#39;taiwan&#39;: [&#39;Taiwan, province of china&#39;, &#39;Republic of China&#39;]}</pre>
</div>

</div>

</div>
</div>

</div>
<div class="cell border-box-sizing text_cell rendered"><div class="prompt input_prompt">
</div><div class="inner_cell">
<div class="text_cell_render border-box-sizing rendered_html">
<p>A warning also ococours if one of the names couldn't be found:</p>

</div>
</div>
</div>
<div class="cell border-box-sizing code_cell rendered">
<div class="input">
<div class="prompt input_prompt">In&nbsp;[25]:</div>
<div class="inner_cell">
    <div class="input_area">
<div class=" highlight hl-ipython3"><pre><span></span><span class="n">match_these</span> <span class="o">=</span> <span class="p">[</span><span class="s1">&#39;norway&#39;</span><span class="p">,</span> <span class="s1">&#39;united_states&#39;</span><span class="p">,</span> <span class="s1">&#39;china&#39;</span><span class="p">,</span> <span class="s1">&#39;taiwan&#39;</span><span class="p">,</span> <span class="s1">&#39;some other country&#39;</span><span class="p">]</span>
<span class="n">master_list</span> <span class="o">=</span> <span class="p">[</span><span class="s1">&#39;USA&#39;</span><span class="p">,</span> <span class="s1">&#39;The Swedish Kingdom&#39;</span><span class="p">,</span> <span class="s1">&#39;Norway is a Kingdom too&#39;</span><span class="p">,</span> <span class="s1">&#39;Peoples Republic of China&#39;</span><span class="p">,</span>  <span class="s1">&#39;Republic of China&#39;</span> <span class="p">]</span>
<span class="n">coco</span><span class="o">.</span><span class="n">match</span><span class="p">(</span><span class="n">match_these</span><span class="p">,</span> <span class="n">master_list</span><span class="p">)</span>
</pre></div>

    </div>
</div>
</div>

<div class="output_wrapper">
<div class="output">


<div class="output_area">

    <div class="prompt"></div>


<div class="output_subarea output_stream output_stderr output_text">
<pre>WARNING:root:Could not identify some other country in list_a
</pre>
</div>
</div>

<div class="output_area">

    <div class="prompt output_prompt">Out[25]:</div>




<div class="output_text output_subarea output_execute_result">
<pre>{&#39;norway&#39;: &#39;Norway is a Kingdom too&#39;,
 &#39;united_states&#39;: &#39;USA&#39;,
 &#39;china&#39;: &#39;Peoples Republic of China&#39;,
 &#39;taiwan&#39;: &#39;Republic of China&#39;,
 &#39;some other country&#39;: &#39;not_found&#39;}</pre>
</div>

</div>

</div>
</div>

</div>
<div class="cell border-box-sizing text_cell rendered"><div class="prompt input_prompt">
</div><div class="inner_cell">
<div class="text_cell_render border-box-sizing rendered_html">
<p>And the value for non found countries can be specified:</p>

</div>
</div>
</div>
<div class="cell border-box-sizing code_cell rendered">
<div class="input">
<div class="prompt input_prompt">In&nbsp;[26]:</div>
<div class="inner_cell">
    <div class="input_area">
<div class=" highlight hl-ipython3"><pre><span></span><span class="n">coco</span><span class="o">.</span><span class="n">match</span><span class="p">(</span><span class="n">match_these</span><span class="p">,</span> <span class="n">master_list</span><span class="p">,</span> <span class="n">not_found</span> <span class="o">=</span> <span class="s1">&#39;its not there&#39;</span><span class="p">)</span>
</pre></div>

    </div>
</div>
</div>

<div class="output_wrapper">
<div class="output">


<div class="output_area">

    <div class="prompt"></div>


<div class="output_subarea output_stream output_stderr output_text">
<pre>WARNING:root:Could not identify some other country in list_a
</pre>
</div>
</div>

<div class="output_area">

    <div class="prompt output_prompt">Out[26]:</div>




<div class="output_text output_subarea output_execute_result">
<pre>{&#39;norway&#39;: &#39;Norway is a Kingdom too&#39;,
 &#39;united_states&#39;: &#39;USA&#39;,
 &#39;china&#39;: &#39;Peoples Republic of China&#39;,
 &#39;taiwan&#39;: &#39;Republic of China&#39;,
 &#39;some other country&#39;: &#39;its not there&#39;}</pre>
</div>

</div>

</div>
</div>

</div>
<div class="cell border-box-sizing text_cell rendered"><div class="prompt input_prompt">
</div><div class="inner_cell">
<div class="text_cell_render border-box-sizing rendered_html">
<p>This can also be used to pass the not found country to the new classification:</p>

</div>
</div>
</div>
<div class="cell border-box-sizing code_cell rendered">
<div class="input">
<div class="prompt input_prompt">In&nbsp;[27]:</div>
<div class="inner_cell">
    <div class="input_area">
<div class=" highlight hl-ipython3"><pre><span></span><span class="n">coco</span><span class="o">.</span><span class="n">match</span><span class="p">(</span><span class="n">match_these</span><span class="p">,</span> <span class="n">master_list</span><span class="p">,</span> <span class="n">not_found</span> <span class="o">=</span> <span class="kc">None</span><span class="p">)</span>
</pre></div>

    </div>
</div>
</div>

<div class="output_wrapper">
<div class="output">


<div class="output_area">

    <div class="prompt"></div>


<div class="output_subarea output_stream output_stderr output_text">
<pre>WARNING:root:Could not identify some other country in list_a
</pre>
</div>
</div>

<div class="output_area">

    <div class="prompt output_prompt">Out[27]:</div>




<div class="output_text output_subarea output_execute_result">
<pre>{&#39;norway&#39;: &#39;Norway is a Kingdom too&#39;,
 &#39;united_states&#39;: &#39;USA&#39;,
 &#39;china&#39;: &#39;Peoples Republic of China&#39;,
 &#39;taiwan&#39;: &#39;Republic of China&#39;,
 &#39;some other country&#39;: &#39;some other country&#39;}</pre>
</div>

</div>

</div>
</div>

</div>
<div class="cell border-box-sizing text_cell rendered"><div class="prompt input_prompt">
</div><div class="inner_cell">
<div class="text_cell_render border-box-sizing rendered_html">
<h2 id="Internals">Internals<a class="anchor-link" href="#Internals">&#182;</a></h2>
</div>
</div>
</div>
<div class="cell border-box-sizing text_cell rendered"><div class="prompt input_prompt">
</div><div class="inner_cell">
<div class="text_cell_render border-box-sizing rendered_html">
<p>Within the new instance, the raw data for the conversion is saved within a pandas dataframe. 
This dataframe can be acocoessed directly with:</p>

</div>
</div>
</div>
<div class="cell border-box-sizing code_cell rendered">
<div class="input">
<div class="prompt input_prompt">In&nbsp;[28]:</div>
<div class="inner_cell">
    <div class="input_area">
<div class=" highlight hl-ipython3"><pre><span></span><span class="n">converter</span><span class="o">.</span><span class="n">data</span><span class="o">.</span><span class="n">head</span><span class="p">()</span>
</pre></div>

    </div>
</div>
</div>

<div class="output_wrapper">
<div class="output">


<div class="output_area">

    <div class="prompt output_prompt">Out[28]:</div>



<div class="output_html rendered_html output_subarea output_execute_result">
<div>
<style scoped>
    .dataframe tbody tr th:only-of-type {
        vertical-align: middle;
    }

    .dataframe tbody tr th {
        vertical-align: top;
    }

    .dataframe thead th {
        text-align: right;
    }
</style>
<table border="1" class="dataframe">
  <thead>
    <tr style="text-align: right;">
      <th></th>
      <th>APEC</th>
      <th>BASIC</th>
      <th>BRIC</th>
      <th>CIS</th>
      <th>Cecilia2050</th>
      <th>EU</th>
      <th>EURO</th>
      <th>EXIO1</th>
      <th>EXIO2</th>
      <th>EXIO3</th>
      <th>...</th>
      <th>OECD</th>
      <th>UNcode</th>
      <th>UNmember</th>
      <th>UNregion</th>
      <th>WIOD</th>
      <th>continent</th>
      <th>name_official</th>
      <th>name_short</th>
      <th>obsolete</th>
      <th>regex</th>
    </tr>
  </thead>
  <tbody>
    <tr>
      <th>0</th>
      <td>NaN</td>
      <td>NaN</td>
      <td>NaN</td>
      <td>NaN</td>
      <td>RoW</td>
      <td>NaN</td>
      <td>NaN</td>
      <td>WW</td>
      <td>WA</td>
      <td>WA</td>
      <td>...</td>
      <td>NaN</td>
      <td>4.0</td>
      <td>1946.0</td>
      <td>Southern Asia</td>
      <td>RoW</td>
      <td>Asia</td>
      <td>Islamic Republic of Afghanistan</td>
      <td>Afghanistan</td>
      <td>NaN</td>
      <td>afghan</td>
    </tr>
    <tr>
      <th>1</th>
      <td>NaN</td>
      <td>NaN</td>
      <td>NaN</td>
      <td>NaN</td>
      <td>RoW</td>
      <td>NaN</td>
      <td>NaN</td>
      <td>WW</td>
      <td>WE</td>
      <td>WE</td>
      <td>...</td>
      <td>NaN</td>
      <td>248.0</td>
      <td>NaN</td>
      <td>Northern Europe</td>
      <td>RoW</td>
      <td>Europe</td>
      <td>Åland Islands</td>
      <td>Aland Islands</td>
      <td>NaN</td>
      <td>\b(a|å)land</td>
    </tr>
    <tr>
      <th>2</th>
      <td>NaN</td>
      <td>NaN</td>
      <td>NaN</td>
      <td>NaN</td>
      <td>RoW</td>
      <td>NaN</td>
      <td>NaN</td>
      <td>WW</td>
      <td>WE</td>
      <td>WE</td>
      <td>...</td>
      <td>NaN</td>
      <td>8.0</td>
      <td>1955.0</td>
      <td>Southern Europe</td>
      <td>RoW</td>
      <td>Europe</td>
      <td>Republic of Albania</td>
      <td>Albania</td>
      <td>NaN</td>
      <td>albania</td>
    </tr>
    <tr>
      <th>3</th>
      <td>NaN</td>
      <td>NaN</td>
      <td>NaN</td>
      <td>NaN</td>
      <td>RoW</td>
      <td>NaN</td>
      <td>NaN</td>
      <td>WW</td>
      <td>WF</td>
      <td>WF</td>
      <td>...</td>
      <td>NaN</td>
      <td>12.0</td>
      <td>1962.0</td>
      <td>Northern Africa</td>
      <td>RoW</td>
      <td>Africa</td>
      <td>People's Democratic Republic of Algeria</td>
      <td>Algeria</td>
      <td>NaN</td>
      <td>algeria</td>
    </tr>
    <tr>
      <th>4</th>
      <td>NaN</td>
      <td>NaN</td>
      <td>NaN</td>
      <td>NaN</td>
      <td>RoW</td>
      <td>NaN</td>
      <td>NaN</td>
      <td>WW</td>
      <td>WA</td>
      <td>WA</td>
      <td>...</td>
      <td>NaN</td>
      <td>16.0</td>
      <td>NaN</td>
      <td>Polynesia</td>
      <td>RoW</td>
      <td>Oceania</td>
      <td>American Samoa</td>
      <td>American Samoa</td>
      <td>NaN</td>
      <td>^(?=.*americ).*samoa</td>
    </tr>
  </tbody>
</table>
<p>5 rows × 27 columns</p>
</div>
</div>

</div>

</div>
</div>

</div>
<div class="cell border-box-sizing text_cell rendered"><div class="prompt input_prompt">
</div><div class="inner_cell">
<div class="text_cell_render border-box-sizing rendered_html">
<p>This dataframe can be extended in both directions. The only requirement is to provide unique values for name_short, name_official and regex.</p>
<p>Internally, the data is saved in country_data.txt as tab-separated values (utf-8 encoded).</p>

</div>
</div>
</div>
<div class="cell border-box-sizing text_cell rendered"><div class="prompt input_prompt">
</div><div class="inner_cell">
<div class="text_cell_render border-box-sizing rendered_html">
<p>Of course, all pandas indexing and matching methods can be used. For example, to get new OECD members since 1995 present in a list:</p>

</div>
</div>
</div>
<div class="cell border-box-sizing code_cell rendered">
<div class="input">
<div class="prompt input_prompt">In&nbsp;[29]:</div>
<div class="inner_cell">
    <div class="input_area">
<div class=" highlight hl-ipython3"><pre><span></span><span class="n">some_countries</span> <span class="o">=</span> <span class="p">[</span><span class="s1">&#39;Australia&#39;</span><span class="p">,</span> <span class="s1">&#39;Belgium&#39;</span><span class="p">,</span> <span class="s1">&#39;Brazil&#39;</span><span class="p">,</span> <span class="s1">&#39;Bulgaria&#39;</span><span class="p">,</span> <span class="s1">&#39;Cyprus&#39;</span><span class="p">,</span> <span class="s1">&#39;Czech Republic&#39;</span><span class="p">,</span> <span class="s1">&#39;Denmark&#39;</span><span class="p">,</span> <span class="s1">&#39;Estonia&#39;</span><span class="p">,</span> <span class="s1">&#39;Finland&#39;</span><span class="p">,</span> <span class="s1">&#39;France&#39;</span><span class="p">,</span> <span class="s1">&#39;Germany&#39;</span><span class="p">,</span> <span class="s1">&#39;Greece&#39;</span><span class="p">,</span> <span class="s1">&#39;Hungary&#39;</span><span class="p">,</span> <span class="s1">&#39;India&#39;</span><span class="p">,</span> <span class="s1">&#39;Indonesia&#39;</span><span class="p">,</span> <span class="s1">&#39;Ireland&#39;</span><span class="p">,</span> <span class="s1">&#39;Italy&#39;</span><span class="p">,</span> <span class="s1">&#39;Japan&#39;</span><span class="p">,</span> <span class="s1">&#39;Latvia&#39;</span><span class="p">,</span> <span class="s1">&#39;Lithuania&#39;</span><span class="p">,</span> <span class="s1">&#39;Luxembourg&#39;</span><span class="p">,</span> <span class="s1">&#39;Malta&#39;</span><span class="p">,</span> <span class="s1">&#39;Romania&#39;</span><span class="p">,</span> <span class="s1">&#39;Russia&#39;</span><span class="p">,</span>  <span class="s1">&#39;Turkey&#39;</span><span class="p">,</span> <span class="s1">&#39;United Kingdom&#39;</span><span class="p">,</span> <span class="s1">&#39;United States&#39;</span><span class="p">]</span>
<span class="n">converter</span><span class="o">.</span><span class="n">data</span><span class="p">[(</span><span class="n">converter</span><span class="o">.</span><span class="n">data</span><span class="o">.</span><span class="n">OECD</span> <span class="o">&gt;=</span> <span class="mi">1995</span><span class="p">)</span> <span class="o">&amp;</span> <span class="n">converter</span><span class="o">.</span><span class="n">data</span><span class="o">.</span><span class="n">name_short</span><span class="o">.</span><span class="n">isin</span><span class="p">(</span><span class="n">some_countries</span><span class="p">)]</span><span class="o">.</span><span class="n">name_short</span>
</pre></div>

    </div>
</div>
</div>

<div class="output_wrapper">
<div class="output">


<div class="output_area">

    <div class="prompt output_prompt">Out[29]:</div>




<div class="output_text output_subarea output_execute_result">
<pre>59     Czech Republic
70            Estonia
101           Hungary
122            Latvia
Name: name_short, dtype: object</pre>
</div>

</div>

</div>
</div>

</div>
<div class="cell border-box-sizing text_cell rendered"><div class="prompt input_prompt">
</div><div class="inner_cell">
<div class="text_cell_render border-box-sizing rendered_html">
<p>Further information can be found here: <a href="https://pandas.pydata.org/pandas-docs/stable/">http://pandas.pydata.org/pandas-docs/stable/</a></p>

</div>
</div>
</div>
<div class="cell border-box-sizing text_cell rendered"><div class="prompt input_prompt">
</div><div class="inner_cell">
<div class="text_cell_render border-box-sizing rendered_html">
<h2 id="Testing">Testing<a class="anchor-link" href="#Testing">&#182;</a></h2>
</div>
</div>
</div>
<div class="cell border-box-sizing text_cell rendered"><div class="prompt input_prompt">
</div><div class="inner_cell">
<div class="text_cell_render border-box-sizing rendered_html">
<p>All regular expressions of the country converter are tested for a unique match to name_short and name_official. 
Test sets for alternative names found in various databases are also available.</p>
<p>The test sets are stored in the /test subbolder. To tests require py.test. 
I recommend to rerun the test if a regular expression is changed.</p>
<p>To specify a new test set just add a tab-separated file with headers "name_short" and "name_test" and provide name (corresponding to the short name in the main classification file) and the alternative name which should be tested (one pair per row in the file). If the file name starts with "test_regex_ " it will be automatically recognised by the test functions.</p>
<p>Please see the file CONTRIBUTING.rst for further information.</p>

</div>
</div>
</div>
<div class="cell border-box-sizing text_cell rendered"><div class="prompt input_prompt">
</div><div class="inner_cell">
<div class="text_cell_render border-box-sizing rendered_html">
<p>Konstantin Stadler</p>

</div>
</div>
</div>
<div class="cell border-box-sizing code_cell rendered">
<div class="input">
<div class="prompt input_prompt">In&nbsp;[&nbsp;]:</div>
<div class="inner_cell">
    <div class="input_area">
<div class=" highlight hl-ipython3"><pre><span></span> 
</pre></div>

    </div>
</div>
</div>

</div>
 


    </div>
  </div>

  </div>


  
    <footer class="footer hidden-print">
      <div class="container">
        <div class="col-md-4">
          <p>
            This website does not host notebooks, it only renders notebooks
            available on other websites.
          </p>
        </div>

        <div class="col-md-4">
          <p>
            Delivered by <a href="https://www.fastly.com/">Fastly</a>,
            Rendered by <a href="https://ovhcloud.com">OVHCloud</a>
          </p>
          <p>
            nbviewer GitHub <a href="https://github.com/jupyter/nbviewer">repository</a>.
          </p>
        </div>

        <div class="col-md-4">
          
  
            
              <p>
                nbviewer version:
                <a href="https://github.com/jupyter/nbviewer/commit/e83752b49e1663d3feb1c157d31fb51451f11c0a">
                  e83752b
                </a>
              </p>
            
          
  
  <p>
    nbconvert version: <a href="https://github.com/jupyter/nbconvert/releases/tag/5.6.1">
      5.6.1
    </a>
  </p>
  

          
  
  
  <p>
    Rendered
    <span class='date' data-date='Fri, 03 Apr 2020 03:52:30 UTC' title='Fri, 03 Apr 2020 03:52:30 UTC'>(Fri, 03 Apr 2020 03:52:30 UTC)</span>
  </p>
  

        </div>
      </div>
    </footer>
  

  <script src="/static/components/bootstrap/js/bootstrap.min.js"></script>
  <script src="/static/components/headroom.js/dist/headroom.min.js"></script>
  <script src="/static/components/headroom.js/dist/jQuery.headroom.min.js"></script>

  
  
  <script>
    $(function(){ $("#menubar").headroom({
      tolerance: 5,
      offset: 205,
      classes: {
        initial: "animated",
        pinned: "slideInDown",
        unpinned: "slideOutUp"
      }
    })});
  </script>


  
  <script>
    (function(i,s,o,g,r,a,m){i['GoogleAnalyticsObject']=r;i[r]=i[r]||function(){
      (i[r].q=i[r].q||[]).push(arguments)},i[r].l=1*new Date();a=s.createElement(o),
      m=s.getElementsByTagName(o)[0];a.async=1;a.src=g;m.parentNode.insertBefore(a,m)
    })(window,document,'script','https://www.google-analytics.com/analytics.js','ga');
    ga('create', 'UA-52617120-5', 'auto',
       {'storage': 'none'});
    ga('set', 'anonymizeIp', true);
    ga('send', 'pageview');
  </script>
  
  <script>
    require({
        paths: {
          moment: "/static/components/moment/min/moment.min.js"
        }
      }, ["moment"], function(moment){
      var date = $("footer .date"),
        m = moment(new Date(date.data('date'))),
        update = function(){ date.text(m.fromNow()); };
      setInterval(update, 61*1000);
      update();
      var w = $(window).scroll(function(event){
        $("body").toggleClass("scrolled", w.scrollTop() > 0);
      });
    });
  </script>

  <!--NEW RELIC Stop Perf Measurement-->
  
  <!--NEW RELIC End-->
</body>
</html>