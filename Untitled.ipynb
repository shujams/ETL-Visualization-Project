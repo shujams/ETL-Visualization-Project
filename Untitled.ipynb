{
 "cells": [
  {
   "cell_type": "code",
   "execution_count": null,
   "metadata": {},
   "outputs": [],
   "source": [
    "# Cancer Incidence Values for Continental United States\n",
    "\n",
    "incidence_df = new_cancer_df.loc[new_cancer_df['Question'] == 'Invasive melanoma, incidence']\n",
    "incidence_df\n",
    "\n",
    "incidence_df = incidence_df.loc[incidence_df['DataValueType'] == 'Average Annual Number']\n",
    "incidence_df.set_index('LocationAbbr', inplace=True)\n",
    "# incidence_df.to_csv('incidence.csv')\n",
    "incidence_df.drop([\"AK\", \"HI\"], inplace = True) \n",
    "incidence_df"
   ]
  },
  {
   "cell_type": "code",
   "execution_count": null,
   "metadata": {},
   "outputs": [],
   "source": [
    "# Cancer Mortality Values for Continental United States\n",
    "\n",
    "mortality_df = new_cancer_df.loc[new_cancer_df['Question'] == 'Melanoma, mortality']\n",
    "mortality_df\n",
    "\n",
    "mortality_df = mortality_df.loc[mortality_df['DataValueType'] == 'Average Annual Number']\n",
    "mortality_df.set_index('LocationAbbr', inplace=True)\n",
    "#mortality_df.to_csv('mortality.csv')\n",
    "mortality_df.drop([\"AK\", \"HI\"], inplace = True) \n",
    "mortality_df"
   ]
  }
 ],
 "metadata": {
  "kernelspec": {
   "display_name": "Python 3",
   "language": "python",
   "name": "python3"
  },
  "language_info": {
   "codemirror_mode": {
    "name": "ipython",
    "version": 3
   },
   "file_extension": ".py",
   "mimetype": "text/x-python",
   "name": "python",
   "nbconvert_exporter": "python",
   "pygments_lexer": "ipython3",
   "version": "3.7.6"
  }
 },
 "nbformat": 4,
 "nbformat_minor": 4
}
